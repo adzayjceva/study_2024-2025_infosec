{
 "cells": [
  {
   "cell_type": "code",
   "execution_count": 3,
   "metadata": {},
   "outputs": [
    {
     "name": "stdout",
     "output_type": "stream",
     "text": [
      "Открытый текст:  С Новым Годом, друзья! \n",
      "Ключ:  vstdU1qZExQ6gF1HpCLoGq \n",
      "Шифротекст:  їSѩњѧѺэzіцѥЈћj\u0011ѼаЀѻУЈP \n",
      "Исходный текст:  С Новым Годом, друзья!\n",
      "\n",
      "Открытый текст:  Сойти с ума давно пора \n",
      "Ключ:  vstdU1qZExQ6gF1HpCLoGq \n",
      "Шифротекст:  їээЦѭ\u0011аzІфѡ\u0016ѓѶЃѵюcѳёЇс \n",
      "Исходный текст:  Сойти с ума давно пора\n",
      "\n",
      "Расшифровать второй текст, зная первый:  Сойти с ума давно пора\n",
      "Расшифровать первый текст, зная второй:  С Новым Годом, друзья!\n"
     ]
    }
   ],
   "source": [
    "import random\n",
    "import string\n",
    "\n",
    "def hex_key_generator(text):\n",
    "    key = ''\n",
    "    for i in range(len(text)):\n",
    "        key += random.choice(string.ascii_letters + string.digits) # generation of a number for each character in the text\n",
    "    return key\n",
    "\n",
    "def encrypt_decrypt(text, key):\n",
    "    new_text = ''\n",
    "    for i in range(len(text)):\n",
    "        new_text += chr(ord(text[i]) ^ ord(key[i % len(key)]))\n",
    "    return new_text\n",
    "\n",
    "t1 = 'С Новым Годом, друзья!'\n",
    "key = hex_key_generator(t1)\n",
    "encrypt_t1 = encrypt_decrypt(t1, key)\n",
    "decrypt_t1 = encrypt_decrypt(encrypt_t1, key)\n",
    "\n",
    "t2 = 'Сойти с ума давно пора'\n",
    "encrypt_t2 = encrypt_decrypt(t2, key)\n",
    "decrypt_t2 = encrypt_decrypt(encrypt_t2, key)\n",
    "\n",
    "print('Открытый текст: ', t1, \"\\nКлюч: \", key, '\\nШифротекст: ', encrypt_t1, '\\nИсходный текст: ', decrypt_t1)\n",
    "print()\n",
    "print('Открытый текст: ', t2, \"\\nКлюч: \", key, '\\nШифротекст: ', encrypt_t2, '\\nИсходный текст: ', decrypt_t2)\n",
    "print()\n",
    "\n",
    "p = encrypt_decrypt(encrypt_t2, encrypt_t1) #С1^C2\n",
    "print('Расшифровать второй текст, зная первый: ', encrypt_decrypt(t1, p))\n",
    "print('Расшифровать первый текст, зная второй: ', encrypt_decrypt(t2, p))"
   ]
  }
 ],
 "metadata": {
  "kernelspec": {
   "display_name": "Python 3 (ipykernel)",
   "language": "python",
   "name": "python3"
  },
  "language_info": {
   "codemirror_mode": {
    "name": "ipython",
    "version": 3
   },
   "file_extension": ".py",
   "mimetype": "text/x-python",
   "name": "python",
   "nbconvert_exporter": "python",
   "pygments_lexer": "ipython3",
   "version": "3.11.5"
  },
  "orig_nbformat": 4
 },
 "nbformat": 4,
 "nbformat_minor": 2
}
